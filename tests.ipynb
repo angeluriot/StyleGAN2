{
 "cells": [
  {
   "cell_type": "markdown",
   "metadata": {},
   "source": [
    "# Anime faces generator (GAN)"
   ]
  },
  {
   "cell_type": "markdown",
   "metadata": {},
   "source": [
    "### Imports"
   ]
  },
  {
   "cell_type": "code",
   "execution_count": null,
   "metadata": {},
   "outputs": [],
   "source": [
    "import math\n",
    "import matplotlib as mpl\n",
    "import matplotlib.pyplot as plt\n",
    "import numpy as np\n",
    "import matplotlib.pyplot as plt\n",
    "from PIL import Image\n",
    "import tensorflow as tf\n",
    "\n",
    "import mapping, generator\n",
    "import utils"
   ]
  },
  {
   "cell_type": "markdown",
   "metadata": {},
   "source": [
    "### Settings"
   ]
  },
  {
   "cell_type": "code",
   "execution_count": null,
   "metadata": {},
   "outputs": [],
   "source": [
    "IMAGE_SIZE = 128\n",
    "NB_CHANNELS = 3\n",
    "MARGIN = IMAGE_SIZE // 8\n",
    "\n",
    "LATENT_DIM = 512\n",
    "MAPPING_LAYERS = 8\n",
    "MIN_IMAGE_SIZE = 4\n",
    "MAX_FILTERS = 512\n",
    "MIN_FILTERS = 64\n",
    "KERNEL_SIZE = 3\n",
    "ALPHA = 0.2\n",
    "GAIN = 1.3\n",
    "MAPPING_LR_RATIO = 0.01\n",
    "\n",
    "NB_BLOCKS = int(math.log(IMAGE_SIZE, 2)) - int(math.log(MIN_IMAGE_SIZE, 2)) + 1"
   ]
  },
  {
   "cell_type": "markdown",
   "metadata": {},
   "source": [
    "### Import model"
   ]
  },
  {
   "cell_type": "code",
   "execution_count": null,
   "metadata": {},
   "outputs": [],
   "source": [
    "ma_mapping = mapping.build_mapping(LATENT_DIM, MAPPING_LAYERS, MAPPING_LR_RATIO, ALPHA, GAIN)\n",
    "ma_generator = generator.build_generator(LATENT_DIM, IMAGE_SIZE, NB_CHANNELS, MIN_IMAGE_SIZE, MAX_FILTERS, MIN_FILTERS, KERNEL_SIZE, ALPHA, GAIN)\n",
    "\n",
    "ma_mapping.load_weights(\"./output/models/model_64/ma_mapping.h5\")\n",
    "ma_generator.load_weights(\"./output/models/model_64/ma_generator.h5\")"
   ]
  },
  {
   "cell_type": "markdown",
   "metadata": {},
   "source": [
    "### Utils"
   ]
  },
  {
   "cell_type": "code",
   "execution_count": null,
   "metadata": {},
   "outputs": [],
   "source": [
    "def gen_z(nb):\n",
    "\treturn np.random.normal(size = (nb, LATENT_DIM))\n",
    "\n",
    "def gen_noise(nb):\n",
    "\treturn [np.random.normal(0., 1., (nb, IMAGE_SIZE, IMAGE_SIZE, 1)) for _ in range((NB_BLOCKS * 2) - 1)]\n",
    "\n",
    "def gen_w(z, batch_size = None):\n",
    "\n",
    "\tif batch_size is None:\n",
    "\t\tbatch_size = z.shape[0]\n",
    "\n",
    "\tw = np.zeros((z.shape[0], LATENT_DIM), dtype = np.float32)\n",
    "\n",
    "\tfor i in range(0, z.shape[0], batch_size):\n",
    "\n",
    "\t\tsize = min(batch_size, z.shape[0] - i)\n",
    "\t\tw[i:i + size, :] = ma_mapping(tf.convert_to_tensor(z[i:i + size])).numpy()\n",
    "\n",
    "\treturn w\n",
    "\n",
    "def gen_images(w, noise, batch_size = None):\n",
    "\n",
    "\tif batch_size is None:\n",
    "\t\tbatch_size = w.shape[0]\n",
    "\n",
    "\tgenerations = np.zeros((w.shape[0], IMAGE_SIZE, IMAGE_SIZE, NB_CHANNELS), dtype = np.uint8)\n",
    "\n",
    "\tfor i in range(0, w.shape[0], batch_size):\n",
    "\n",
    "\t\tsize = min(batch_size, w.shape[0] - i)\n",
    "\t\tconst_input = [tf.ones((size, 1))]\n",
    "\t\tn = [tf.convert_to_tensor(j[i:i + size]) for j in noise]\n",
    "\t\tgen = ma_generator(const_input + ([w[i:i + size]] * NB_BLOCKS) + n)\n",
    "\t\tgenerations[i:i + size, :, :, :] = utils.denorm_img(gen.numpy())\n",
    "\n",
    "\treturn generations\n",
    "\n",
    "def plot(images, shape, path = None, show = True):\n",
    "\n",
    "\toutput_image = np.full((\n",
    "\t\tMARGIN + (shape[1] * (images.shape[2] + MARGIN)),\n",
    "\t\tMARGIN + (shape[0] * (images.shape[1] + MARGIN)),\n",
    "\t\timages.shape[3]), 255, dtype = np.uint8)\n",
    "\n",
    "\ti = 0\n",
    "\tfor row in range(shape[1]):\n",
    "\t\tfor col in range(shape[0]):\n",
    "\t\t\tr = row * (images.shape[2] + MARGIN) + MARGIN\n",
    "\t\t\tc = col * (images.shape[1] + MARGIN) + MARGIN\n",
    "\t\t\toutput_image[r:r + images.shape[2], c:c + images.shape[1]] = images[i]\n",
    "\t\t\ti += 1\n",
    "\n",
    "\tif show:\n",
    "\t\tdpi = mpl.rcParams['figure.dpi']\n",
    "\t\tfig = plt.figure(figsize = (output_image.shape[0] / float(dpi), output_image.shape[1] / float(dpi)), dpi = dpi)\n",
    "\t\tax = fig.add_axes([0, 0, 1, 1])\n",
    "\t\tax.axis('off')\n",
    "\t\tax.imshow(output_image)\n",
    "\t\tplt.show()\n",
    "\n",
    "\timg = Image.fromarray(output_image)\n",
    "\n",
    "\tif path is not None:\n",
    "\t\timg.save(path)"
   ]
  },
  {
   "cell_type": "markdown",
   "metadata": {},
   "source": [
    "### Mean W"
   ]
  },
  {
   "cell_type": "code",
   "execution_count": null,
   "metadata": {},
   "outputs": [],
   "source": [
    "z = gen_z(100000)\n",
    "w = gen_w(z, batch_size = 1000)\n",
    "mean_w = np.mean(w, axis = 0)"
   ]
  },
  {
   "cell_type": "code",
   "execution_count": null,
   "metadata": {},
   "outputs": [],
   "source": [
    "def gen_images_truncated(w, noise, psi = 1., batch_size = None):\n",
    "\n",
    "\treturn gen_images(mean_w + psi * (w - mean_w), noise, batch_size = batch_size)"
   ]
  },
  {
   "cell_type": "code",
   "execution_count": null,
   "metadata": {},
   "outputs": [],
   "source": [
    "z = gen_z(1)\n",
    "w = gen_w(z)\n",
    "noise = gen_noise(1)\n",
    "image = gen_images_truncated(w, noise, psi = 0.)\n",
    "\n",
    "plot(image, (1, 1))"
   ]
  },
  {
   "cell_type": "markdown",
   "metadata": {},
   "source": [
    "### Tests"
   ]
  },
  {
   "cell_type": "code",
   "execution_count": null,
   "metadata": {},
   "outputs": [],
   "source": [
    "shape = (8, 6)\n",
    "z = gen_z(shape[0] * shape[1])\n",
    "w = gen_w(z)\n",
    "noise = gen_noise(shape[0] * shape[1])\n",
    "images = gen_images_truncated(w, noise, psi = 0.7)\n",
    "\n",
    "plot(images, shape, \"test_2.png\")"
   ]
  }
 ],
 "metadata": {
  "kernelspec": {
   "display_name": "Python 3.9.13 ('venv': venv)",
   "language": "python",
   "name": "python3"
  },
  "language_info": {
   "codemirror_mode": {
    "name": "ipython",
    "version": 3
   },
   "file_extension": ".py",
   "mimetype": "text/x-python",
   "name": "python",
   "nbconvert_exporter": "python",
   "pygments_lexer": "ipython3",
   "version": "3.9.13"
  },
  "orig_nbformat": 4,
  "vscode": {
   "interpreter": {
    "hash": "c4e1cf01013ab48edb31e779a2d27747b973c68951b99f8c9f4467e823943775"
   }
  }
 },
 "nbformat": 4,
 "nbformat_minor": 2
}
