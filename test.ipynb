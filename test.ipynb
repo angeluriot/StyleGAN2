{
 "cells": [
  {
   "cell_type": "code",
   "execution_count": null,
   "metadata": {},
   "outputs": [],
   "source": [
    "import os\n",
    "import matplotlib.pyplot as plt\n",
    "import numpy as np\n",
    "from PIL import Image"
   ]
  },
  {
   "cell_type": "code",
   "execution_count": null,
   "metadata": {},
   "outputs": [],
   "source": [
    "image_ref = Image.open('./test.png').convert('RGB')\n",
    "l = []\n",
    "scores_1 = []\n",
    "scores_2 = []\n",
    "scores_3 = []\n",
    "scores_4 = []\n",
    "scores_5 = []\n",
    "scores_6 = []\n",
    "i = 0\n",
    "\n",
    "for img in os.listdir('./datasets/dataset_128/'):\n",
    "\timage = Image.open('./datasets/dataset_128/' + img)\n",
    "\n",
    "\tref_np_4 = np.array(image_ref.resize((4, 4), Image.Resampling.BILINEAR)) / 255.\n",
    "\tref_np_16 = np.array(image_ref.resize((16, 16), Image.Resampling.BILINEAR)) / 255.\n",
    "\tref_np_128 = np.array(image_ref) / 255.\n",
    "\n",
    "\timg_np_4 = np.array(image.resize((4, 4), Image.Resampling.BILINEAR)) / 255.\n",
    "\timg_np_16 = np.array(image.resize((16, 16), Image.Resampling.BILINEAR)) / 255.\n",
    "\timg_np_128 = np.array(image) / 255.\n",
    "\n",
    "\tdiff_4 = ref_np_4 - img_np_4\n",
    "\tdiff_16 = ref_np_16 - img_np_16\n",
    "\tdiff_128 = ref_np_128 - img_np_128\n",
    "\n",
    "\tscore_1 = np.mean(diff_4 ** 2)\n",
    "\tscore_2 = np.mean(diff_16 ** 2)\n",
    "\tscore_3 = np.mean(diff_128 ** 2)\n",
    "\tscore_4 = np.mean(np.abs(diff_4))\n",
    "\tscore_5 = np.mean(np.abs(diff_16))\n",
    "\tscore_6 = np.mean(np.abs(diff_128))\n",
    "\n",
    "\tscores_1.append(score_1)\n",
    "\tscores_2.append(score_2)\n",
    "\tscores_3.append(score_3)\n",
    "\tscores_4.append(score_4)\n",
    "\tscores_5.append(score_5)\n",
    "\tscores_6.append(score_6)\n",
    "\tl.append(['./datasets/dataset_128/' + img, 0.])\n",
    "\ti += 1\n",
    "\tprint(i, end = '\\r')\n",
    "\n",
    "scores_1 = np.array(scores_1)\n",
    "scores_2 = np.array(scores_2)\n",
    "scores_3 = np.array(scores_3)\n",
    "scores_4 = np.array(scores_4)\n",
    "scores_5 = np.array(scores_5)\n",
    "scores_6 = np.array(scores_6)\n",
    "\n",
    "mean_score_1 = np.mean(scores_1)\n",
    "mean_score_2 = np.mean(scores_2)\n",
    "mean_score_3 = np.mean(scores_3)\n",
    "mean_score_4 = np.mean(scores_4)\n",
    "mean_score_5 = np.mean(scores_5)\n",
    "mean_score_6 = np.mean(scores_6)\n",
    "\n",
    "scores_2 *= mean_score_1 / mean_score_2\n",
    "scores_3 *= mean_score_1 / mean_score_3\n",
    "scores_4 *= mean_score_1 / mean_score_4\n",
    "scores_5 *= mean_score_1 / mean_score_5\n",
    "scores_6 *= mean_score_1 / mean_score_6\n",
    "\n",
    "scores = (scores_1 + scores_2 + scores_3 + scores_4 + scores_5 + scores_6) / 6.\n",
    "\n",
    "for i in range(len(l)):\n",
    "\tl[i][1] = scores[i]"
   ]
  },
  {
   "cell_type": "code",
   "execution_count": null,
   "metadata": {},
   "outputs": [],
   "source": [
    "l.sort(key = lambda x: x[1])"
   ]
  },
  {
   "cell_type": "code",
   "execution_count": null,
   "metadata": {},
   "outputs": [],
   "source": [
    "# Show the ref image and the 5 most similar images\n",
    "\n",
    "plt.figure(figsize=(20, 20))\n",
    "plt.subplot(1, 6, 1)\n",
    "plt.imshow(image_ref)\n",
    "plt.title('Reference image')\n",
    "plt.axis('off')\n",
    "\n",
    "for i in range(5):\n",
    "\tplt.subplot(1, 6, i+2)\n",
    "\tplt.imshow(Image.open(l[i][0]))\n",
    "\tplt.title('MSE: ' + str(l[i][1]))\n",
    "\tplt.axis('off')\n",
    "\n",
    "plt.show()"
   ]
  },
  {
   "cell_type": "code",
   "execution_count": null,
   "metadata": {},
   "outputs": [],
   "source": [
    "for i in range(5):\n",
    "\timage = Image.open(l[i][0])\n",
    "\timage.save('./test_' + str(i) + '.png')"
   ]
  },
  {
   "cell_type": "code",
   "execution_count": 5,
   "metadata": {},
   "outputs": [
    {
     "data": {
      "image/png": "[encoded data removed]",
      "text/plain": [
       "<Figure size 640x480 with 1 Axes>"
      ]
     },
     "metadata": {},
     "output_type": "display_data"
    }
   ],
   "source": [
    "import numpy as np\n",
    "import matplotlib.pyplot as plt\n",
    "\n",
    "lr_max = 0.0012\n",
    "lr_min = 0.0005\n",
    "\n",
    "def get_lr(epoch):\n",
    "\treturn lr_min + (lr_max - lr_min) * np.exp(-epoch * 0.03)\n",
    "\n",
    "epochs = np.arange(0, 100)\n",
    "lrs = np.array([get_lr(epoch) for epoch in epochs])\n",
    "\n",
    "plt.plot(epochs, lrs)\n",
    "plt.plot([0, 0], [0, 0], 'o')\n",
    "plt.show()"
   ]
  }
 ],
 "metadata": {
  "kernelspec": {
   "display_name": "venv",
   "language": "python",
   "name": "python3"
  },
  "language_info": {
   "codemirror_mode": {
    "name": "ipython",
    "version": 3
   },
   "file_extension": ".py",
   "mimetype": "text/x-python",
   "name": "python",
   "nbconvert_exporter": "python",
   "pygments_lexer": "ipython3",
   "version": "3.9.13 (tags/v3.9.13:6de2ca5, May 17 2022, 16:36:42) [MSC v.1929 64 bit (AMD64)]"
  },
  "orig_nbformat": 4,
  "vscode": {
   "interpreter": {
    "hash": "49adeffe1bec12a08b3b1d5c77c627d0206a5fe107e4a03b623b1994225d96c9"
   }
  }
 },
 "nbformat": 4,
 "nbformat_minor": 2
}
